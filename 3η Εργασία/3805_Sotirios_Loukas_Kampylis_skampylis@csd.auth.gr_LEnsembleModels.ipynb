{
 "cells": [
  {
   "cell_type": "markdown",
   "metadata": {
    "id": "O8gU7AYPXMmA"
   },
   "source": [
    "## About iPython Notebooks ##\n",
    "\n",
    "iPython Notebooks are interactive coding environments embedded in a webpage. You will be using iPython notebooks in this class. Make sure you fill in any place that says `# BEGIN CODE HERE #END CODE HERE`. After writing your code, you can run the cell by either pressing \"SHIFT\"+\"ENTER\" or by clicking on \"Run\" (denoted by a play symbol). Before you turn this problem in, make sure everything runs as expected. First, **restart the kernel** (in the menubar, select Kernel$\\rightarrow$Restart) and then **run all cells** (in the menubar, select Cell$\\rightarrow$Run All). \n",
    "\n",
    " **What you need to remember:**\n",
    "\n",
    "- Run your cells using SHIFT+ENTER (or \"Run cell\")\n",
    "- Write code in the designated areas using Python 3 only\n",
    "- Do not modify the code outside of the designated areas\n",
    "- In some cases you will also need to explain the results. There will also be designated areas for that. \n",
    "\n",
    "Fill in your **NAME** and **AEM** below:"
   ]
  },
  {
   "cell_type": "code",
   "execution_count": 1,
   "metadata": {
    "id": "lO-jJrtNXMmH"
   },
   "outputs": [],
   "source": [
    "NAME = \"Sotirios Loukas Kampylis\"\n",
    "AEM = \"3805\""
   ]
  },
  {
   "cell_type": "markdown",
   "metadata": {
    "id": "sh0EE7BJXMmJ"
   },
   "source": [
    "---"
   ]
  },
  {
   "cell_type": "markdown",
   "metadata": {
    "id": "v_VpnGyWXMmK"
   },
   "source": [
    "# Assignment 3 - Ensemble Methods #"
   ]
  },
  {
   "cell_type": "markdown",
   "metadata": {
    "id": "2dQ9XoGQXMmK"
   },
   "source": [
    "Welcome to your third assignment. This exercise will test your understanding on Ensemble Methods."
   ]
  },
  {
   "cell_type": "code",
   "execution_count": 2,
   "metadata": {
    "id": "JvHYIhS-XMmL"
   },
   "outputs": [],
   "source": [
    "# Always run this cell\n",
    "import numpy as np\n",
    "import pandas as pd\n",
    "\n",
    "# USE THE FOLLOWING RANDOM STATE FOR YOUR CODE\n",
    "RANDOM_STATE = 42"
   ]
  },
  {
   "cell_type": "markdown",
   "metadata": {
    "id": "joKwpih2XMmM"
   },
   "source": [
    "## Download the Dataset ##\n",
    "Download the dataset using the following cell or from this [link](https://github.com/sakrifor/public/tree/master/machine_learning_course/EnsembleDataset) and put the files in the same folder as the .ipynb file. \n",
    "In this assignment you are going to work with a dataset originated from the [ImageCLEFmed: The Medical Task 2016](https://www.imageclef.org/2016/medical) and the **Compound figure detection** subtask. The goal of this subtask is to identify whether a figure is a compound figure (one image consists of more than one figure) or not. The train dataset consits of 4197 examples/figures and each figure has 4096 features which were extracted using a deep neural network. The *CLASS* column represents the class of each example where 1 is a compoung figure and 0 is not. \n"
   ]
  },
  {
   "cell_type": "code",
   "execution_count": 3,
   "metadata": {
    "colab": {
     "base_uri": "https://localhost:8080/"
    },
    "id": "NJdwPr0bXMmM",
    "outputId": "70f064fa-7ee5-4985-f59d-9c94c1d1c3f2"
   },
   "outputs": [
    {
     "data": {
      "text/plain": [
       "('test_set_noclass.csv', <http.client.HTTPMessage at 0x23e23678490>)"
      ]
     },
     "execution_count": 3,
     "metadata": {},
     "output_type": "execute_result"
    }
   ],
   "source": [
    "import urllib.request\n",
    "url_train = 'https://github.com/sakrifor/public/raw/master/machine_learning_course/EnsembleDataset/train_set.csv'\n",
    "filename_train = 'train_set.csv'\n",
    "urllib.request.urlretrieve(url_train, filename_train)\n",
    "url_test = 'https://github.com/sakrifor/public/raw/master/machine_learning_course/EnsembleDataset/test_set_noclass.csv'\n",
    "filename_test = 'test_set_noclass.csv'\n",
    "urllib.request.urlretrieve(url_test, filename_test)"
   ]
  },
  {
   "cell_type": "code",
   "execution_count": 4,
   "metadata": {
    "id": "t0OVtYr7XMmN"
   },
   "outputs": [],
   "source": [
    "# Run this cell to load the data\n",
    "train_set = pd.read_csv(\"train_set.csv\").sample(frac=1).reset_index(drop=True)\n",
    "train_set.head()\n",
    "X = train_set.drop(columns=['CLASS'])\n",
    "y = train_set['CLASS'].values"
   ]
  },
  {
   "cell_type": "markdown",
   "metadata": {
    "id": "ZxOGHSmqXMmO"
   },
   "source": [
    "## 1.0 Testing different ensemble methods ##\n",
    "In this part of the assignment you are asked to create and test different ensemble methods using the train_set.csv dataset. You should use **10-fold cross validation** for your tests and report the average f-measure weighted and balanced accuracy of your models. You can use [cross_validate](https://scikit-learn.org/stable/modules/generated/sklearn.model_selection.cross_validate.html#sklearn.model_selection.cross_validate) and select both metrics to be measured during the evaluation. Otherwise, you can use [KFold](https://scikit-learn.org/stable/modules/generated/sklearn.model_selection.KFold.html#sklearn.model_selection.KFold).\n",
    "\n",
    "### !!! Use n_jobs=-1 where is posibble to use all the cores of a machine for running your tests ###"
   ]
  },
  {
   "cell_type": "markdown",
   "metadata": {
    "id": "Ww_u4OlrXMmO"
   },
   "source": [
    "### 1.1 Voting ###\n",
    "Create a voting classifier which uses three **simple** estimators/classifiers. Test both soft and hard voting and choose the best one. Consider as simple estimators the following:\n",
    "\n",
    "\n",
    "*   Decision Trees\n",
    "*   Linear Models\n",
    "*   Probabilistic Models (Naive Bayes)\n",
    "*   KNN Models  "
   ]
  },
  {
   "cell_type": "code",
   "execution_count": 5,
   "metadata": {
    "id": "RwvPacgkXMmP"
   },
   "outputs": [],
   "source": [
    "# BEGIN CODE HERE\n",
    "from sklearn.linear_model import LogisticRegression\n",
    "from sklearn.tree import DecisionTreeClassifier\n",
    "from sklearn.neighbors import KNeighborsClassifier\n",
    "from sklearn.ensemble import VotingClassifier\n",
    "from sklearn.model_selection import cross_validate\n",
    "\n",
    "cls1 = LogisticRegression(random_state=RANDOM_STATE) # Classifier #1\n",
    "cls2 = DecisionTreeClassifier(max_depth=10,min_samples_split=25,random_state=RANDOM_STATE) # Classifier #2\n",
    "cls3 = KNeighborsClassifier(n_neighbors=20) # Classifier #3\n",
    "soft_vcls = VotingClassifier(estimators=[('lr',cls1),('dt',cls2),('knn',cls3)],voting='soft',n_jobs=-1) # Voting Classifier\n",
    "hard_vcls = VotingClassifier(estimators=[('lr',cls1),('dt',cls2),('knn',cls3)],voting='hard',n_jobs=-1) # Voting Classifier\n",
    "\n",
    "svlcs_scores = cross_validate(soft_vcls,X,y,cv=10,scoring=('f1_weighted','balanced_accuracy'),n_jobs=-1)\n",
    "s_avg_fmeasure = np.mean(svlcs_scores['test_f1_weighted']) # The average f-measure\n",
    "s_avg_accuracy = np.mean(svlcs_scores['test_balanced_accuracy']) # The average accuracy\n",
    "\n",
    "hvlcs_scores = cross_validate(hard_vcls,X,y,cv=10,scoring=('f1_weighted','balanced_accuracy'),n_jobs=-1)\n",
    "h_avg_fmeasure = np.mean(hvlcs_scores['test_f1_weighted']) # The average f-measure\n",
    "h_avg_accuracy = np.mean(hvlcs_scores['test_balanced_accuracy']) # The average accuracy\n",
    "#END CODE HERE"
   ]
  },
  {
   "cell_type": "code",
   "execution_count": 6,
   "metadata": {
    "id": "sQQvClrmXMmQ",
    "scrolled": false
   },
   "outputs": [
    {
     "name": "stdout",
     "output_type": "stream",
     "text": [
      "Classifier:\n",
      "VotingClassifier(estimators=[('lr', LogisticRegression(random_state=42)),\n",
      "                             ('dt',\n",
      "                              DecisionTreeClassifier(max_depth=10,\n",
      "                                                     min_samples_split=25,\n",
      "                                                     random_state=42)),\n",
      "                             ('knn', KNeighborsClassifier(n_neighbors=20))],\n",
      "                 n_jobs=-1, voting='soft')\n",
      "F1 Weighted-Score: 0.8308 & Balanced Accuracy: 0.822\n"
     ]
    }
   ],
   "source": [
    "print(\"Classifier:\")\n",
    "print(soft_vcls)\n",
    "print(\"F1 Weighted-Score: {} & Balanced Accuracy: {}\".format(round(s_avg_fmeasure,4), round(s_avg_accuracy,4)))"
   ]
  },
  {
   "cell_type": "markdown",
   "metadata": {
    "id": "k-iJK9pFaDka"
   },
   "source": [
    "You should achive above 82% (Soft Voting Classifier)"
   ]
  },
  {
   "cell_type": "code",
   "execution_count": 7,
   "metadata": {
    "id": "XRNkVAvEYVbn"
   },
   "outputs": [
    {
     "name": "stdout",
     "output_type": "stream",
     "text": [
      "Classifier:\n",
      "VotingClassifier(estimators=[('lr', LogisticRegression(random_state=42)),\n",
      "                             ('dt',\n",
      "                              DecisionTreeClassifier(max_depth=10,\n",
      "                                                     min_samples_split=25,\n",
      "                                                     random_state=42)),\n",
      "                             ('knn', KNeighborsClassifier(n_neighbors=20))],\n",
      "                 n_jobs=-1)\n",
      "F1 Weighted-Score: 0.8227 & Balanced Accuracy: 0.8139\n"
     ]
    }
   ],
   "source": [
    "print(\"Classifier:\")\n",
    "print(hard_vcls)\n",
    "print(\"F1 Weighted-Score: {} & Balanced Accuracy: {}\".format(round(h_avg_fmeasure,4), round(h_avg_accuracy,4)))"
   ]
  },
  {
   "cell_type": "markdown",
   "metadata": {
    "id": "V6M0CZO6aEHi"
   },
   "source": [
    "You should achieve above 80% in both! (Hard Voting Classifier)"
   ]
  },
  {
   "cell_type": "markdown",
   "metadata": {
    "id": "xVPuIxwFXMmR"
   },
   "source": [
    "### 1.2 Stacking ###\n",
    "Create a stacking classifier which uses two more complex estimators. Try different simple classifiers (like the ones mentioned before) for the combination of the initial estimators. Report your results in the following cell.\n",
    "\n",
    "Consider as complex estimators the following:\n",
    "\n",
    "*   Random Forest\n",
    "*   SVM\n",
    "*   Gradient Boosting\n",
    "*   MLP\n",
    "\n",
    "\n"
   ]
  },
  {
   "cell_type": "code",
   "execution_count": 8,
   "metadata": {
    "id": "HX6T1qrFXMmS"
   },
   "outputs": [],
   "source": [
    "# BEGIN CODE HERE\n",
    "from sklearn.ensemble import RandomForestClassifier,GradientBoostingClassifier,StackingClassifier\n",
    "from sklearn.neural_network import MLPClassifier\n",
    "\n",
    "cls1 = RandomForestClassifier(n_estimators=50,max_depth=15,max_features=0.8,n_jobs=-1,random_state=RANDOM_STATE) # Classifier #1\n",
    "cls2 = GradientBoostingClassifier(n_estimators=50,random_state=RANDOM_STATE) # Classifier #2\n",
    "cls3 = MLPClassifier(hidden_layer_sizes=(100,100,100,100),random_state=RANDOM_STATE) # Classifier #3 (Optional)\n",
    "scls = StackingClassifier(estimators=[('rf',cls1),('gb',cls2),('mlp',cls3)],n_jobs=-1) # Stacking Classifier\n",
    "scores = cross_validate(scls,X,y,cv=10,scoring=('f1_weighted','balanced_accuracy'),n_jobs=-1)\n",
    "avg_fmeasure = np.mean(scores['test_f1_weighted']) # The average f-measure\n",
    "avg_accuracy = np.mean(scores['test_balanced_accuracy']) # The average accuracy\n",
    "#END CODE HERE"
   ]
  },
  {
   "cell_type": "code",
   "execution_count": 9,
   "metadata": {
    "id": "-JLRzkQ1XMmT",
    "scrolled": true
   },
   "outputs": [
    {
     "name": "stdout",
     "output_type": "stream",
     "text": [
      "Classifier:\n",
      "StackingClassifier(estimators=[('rf',\n",
      "                                RandomForestClassifier(max_depth=15,\n",
      "                                                       max_features=0.8,\n",
      "                                                       n_estimators=50,\n",
      "                                                       n_jobs=-1,\n",
      "                                                       random_state=42)),\n",
      "                               ('gb',\n",
      "                                GradientBoostingClassifier(n_estimators=50,\n",
      "                                                           random_state=42)),\n",
      "                               ('mlp',\n",
      "                                MLPClassifier(hidden_layer_sizes=(100, 100, 100,\n",
      "                                                                  100),\n",
      "                                              random_state=42))],\n",
      "                   n_jobs=-1)\n",
      "F1 Weighted Score: 0.8508 & Balanced Accuracy: 0.8447\n"
     ]
    }
   ],
   "source": [
    "print(\"Classifier:\")\n",
    "print(scls)\n",
    "print(\"F1 Weighted Score: {} & Balanced Accuracy: {}\".format(round(avg_fmeasure,4), round(avg_accuracy,4)))"
   ]
  },
  {
   "cell_type": "markdown",
   "metadata": {
    "id": "zcgOx-HPvBI-"
   },
   "source": [
    "You should achieve above 85% in both"
   ]
  },
  {
   "cell_type": "markdown",
   "metadata": {
    "id": "O-nqW51xXMmU"
   },
   "source": [
    "## 2.0 Randomization ##"
   ]
  },
  {
   "cell_type": "markdown",
   "metadata": {
    "id": "KPG8MdFLXMmV"
   },
   "source": [
    "**2.1** You are asked to create three ensembles of decision trees where each one uses a different method for producing homogeneous ensembles. Compare them with a simple decision tree classifier and report your results in the dictionaries (dict) below using as key the given name of your classifier and as value the f1_weighted/balanced_accuracy score. The dictionaries should contain four different elements.  "
   ]
  },
  {
   "cell_type": "code",
   "execution_count": 29,
   "metadata": {
    "id": "PmkaP-DjXMmV"
   },
   "outputs": [],
   "source": [
    "# BEGIN CODE HERE\n",
    "from sklearn.model_selection import StratifiedKFold\n",
    "from sklearn.ensemble import BaggingClassifier,RandomForestClassifier,AdaBoostClassifier\n",
    "from sklearn.tree import DecisionTreeClassifier\n",
    "from sklearn.metrics import f1_score,balanced_accuracy_score\n",
    "\n",
    "# StratifiedKFold\n",
    "cv = StratifiedKFold(n_splits=10,shuffle=True,random_state=RANDOM_STATE)\n",
    "# Bagging Classifier\n",
    "ens1 = BaggingClassifier(DecisionTreeClassifier(random_state=RANDOM_STATE),n_estimators=50,n_jobs=-1,random_state=RANDOM_STATE)\n",
    "# Random Forest Classifier\n",
    "ens2 = RandomForestClassifier(n_estimators=50,n_jobs=-1,random_state=RANDOM_STATE)\n",
    "# AdaBoost Classifier\n",
    "ens3 = AdaBoostClassifier(n_estimators=50,random_state=RANDOM_STATE)\n",
    "# Decision Tree Classifier\n",
    "tree = DecisionTreeClassifier(random_state=RANDOM_STATE)\n",
    "\n",
    "score1 = cross_validate(ens1,X,y,cv=cv,scoring=('f1_weighted','balanced_accuracy'),n_jobs=-1)\n",
    "score2 = cross_validate(ens2,X,y,cv=cv,scoring=('f1_weighted','balanced_accuracy'),n_jobs=-1)\n",
    "score3 = cross_validate(ens3,X,y,cv=cv,scoring=('f1_weighted','balanced_accuracy'),n_jobs=-1)\n",
    "score4 = cross_validate(tree,X,y,cv=cv,scoring=('f1_weighted','balanced_accuracy'),n_jobs=-1)\n",
    "\n",
    "f_measures = dict({'Simple Desicion':score4['test_f1_weighted'].mean(),\n",
    "                   'Ensemble with bagging classifier':score1['test_f1_weighted'].mean(),\n",
    "                   'Ensemble with random forest classifier':score2['test_f1_weighted'].mean(),\n",
    "                   'Ensemble with ada boost classifier':score3['test_f1_weighted'].mean()})\n",
    "accuracies = dict({'Simple Desicion':score4['test_balanced_accuracy'].mean(),\n",
    "                   'Ensemble with bagging classifier':score1['test_balanced_accuracy'].mean(),\n",
    "                   'Ensemble with random forest classifier':score2['test_balanced_accuracy'].mean(),\n",
    "                   'Ensemble with ada boost classifier':score3['test_balanced_accuracy'].mean()})\n",
    "# Example f_measures = {'Simple Decision': 0.8551, 'Ensemble with random ...': 0.92, ...}\n",
    "\n",
    "#END CODE HERE"
   ]
  },
  {
   "cell_type": "code",
   "execution_count": 30,
   "metadata": {
    "id": "IUqhDUuCXMmW"
   },
   "outputs": [
    {
     "name": "stdout",
     "output_type": "stream",
     "text": [
      "BaggingClassifier(base_estimator=DecisionTreeClassifier(random_state=42),\n",
      "                  n_estimators=50, n_jobs=-1, random_state=42)\n",
      "RandomForestClassifier(n_estimators=50, n_jobs=-1, random_state=42)\n",
      "AdaBoostClassifier(random_state=42)\n",
      "DecisionTreeClassifier(random_state=42)\n",
      "Classifier:Simple Desicion -  F1 Weighted:0.7026\n",
      "Classifier:Ensemble with bagging classifier -  F1 Weighted:0.8064\n",
      "Classifier:Ensemble with random forest classifier -  F1 Weighted:0.8035\n",
      "Classifier:Ensemble with ada boost classifier -  F1 Weighted:0.7869\n",
      "Classifier:Simple Desicion -  BalancedAccuracy:0.6916\n",
      "Classifier:Ensemble with bagging classifier -  BalancedAccuracy:0.7941\n",
      "Classifier:Ensemble with random forest classifier -  BalancedAccuracy:0.79\n",
      "Classifier:Ensemble with ada boost classifier -  BalancedAccuracy:0.7774\n"
     ]
    }
   ],
   "source": [
    "print(ens1)\n",
    "print(ens2)\n",
    "print(ens3)\n",
    "print(tree)\n",
    "for name,score in f_measures.items():\n",
    "    print(\"Classifier:{} -  F1 Weighted:{}\".format(name,round(score,4)))\n",
    "for name,score in accuracies.items():\n",
    "    print(\"Classifier:{} -  BalancedAccuracy:{}\".format(name,round(score,4)))"
   ]
  },
  {
   "cell_type": "markdown",
   "metadata": {
    "id": "UqdXTE_2XMmX"
   },
   "source": [
    "**2.2** Describe your classifiers and your results."
   ]
  },
  {
   "cell_type": "markdown",
   "metadata": {
    "id": "rU9POFftXMmX"
   },
   "source": [
    "1)Bagging Classifier: Bagging ονομάζουμε τη διαδικασία κατα την οποία επιλέγουμε διαφορετικά samples με επανατοποθέτηση από τα αρχικά δεδομένα. O Bagging Classifier είναι μια Ensemble μέθοδος που εκπαιδεύει πολλούς Classifiers (στη συγκεκριμένη περίπτωση DecisionTreeClassifier) κάθε έναν με διαφορετικά τυχαία δείγματα που δημιουργήθηκαν με τη διαδικασία του bagging. Με αυτόν τον τρόπο κάνει randomization στον τρόπο που κατασκευάζονται τα δέντρα. Στη συνέχεια, για να κάνει μια τελική πρόβλεψη ομαδοποιεί τις προβλέψεις από τους επιμέρους κατηγοριοποιητές (voting ή averaging).\n",
    " Αποτελέσματα Bagging Classifier:\n",
    "-Ensemble with bagging classifier -  F1 Weighted:0.8064\n",
    "-Ensemble with bagging classifier -  BalancedAccuracy:0.7941\n",
    "\n",
    "2)Random Forest Classifier: Ο RandomForest βασίζεται πάλι στην μέθοδο με τα τυχαία samples του Bagging που αναφέρουμε παραπάνω. Η βασική διαφορά από τον BaggingClassifier είναι στην επιλογή των splits. O BaggingClassifier όταν καλείται να επιλέξει split point μπορεί να λάβει υπόψιν όλα τα features και να επιλέξει το optimal split. Από την άλλη, ο RandomForest μπορεί να επιλέξει κάθε φορά μεταξύ m τυχαία επιλεγμένων features για να κάνει το split. Έτσι, δημιουργούνται διαφορετικά υπό-μοντέλα (δέντρα με διαφορετικά splits) και με το συνδυασμό των predictions τους μπορεί να πετύχουμε καλύτερα αποτελέσματα.\n",
    " Αποτελέσματα Random Forest Classifier:\n",
    "-Ensemble with random forest classifier -  F1 Weighted:0.8035\n",
    "-Ensemble with random forest classifier -  BalancedAccuracy:0.79\n",
    "\n",
    "3)Ada Boost Classifier: Στον 3ο classifier χρησιμοποιούμε τη μέθοδο του Boosting, κατά την οποία εκπαιδεύουμε μοντέλα διαδοχικά και κάθε μοντέλο προσπαθεί να διορθώσει τα λάθη του προηγούμενου. Αυτό πραγματοποιείται αναθέτοντας μεγαλύτερο βάρος στα instances που έγιναν missclassified στο προηγούμενο μοντέλο. Συγκεκριμένα χρησιμοποιούμε τον AdaBoost classifier με τις default παραμέτρους, δηλαδή με 50 estimators (Decision Trees με max_depth=1).\n",
    " Αποτελέσματα Adaboost Classifier:\n",
    "-Ensemble with ada boost classifier -  F1 Weighted:0.7869\n",
    "-Ensemble with ada boost classifier -  BalancedAccuracy:0.7774\n",
    "\n",
    "4)DecisionTreeClassifier: Θεωρείται ήδη γνωστός από παλιότερα άρα δεν θα εξηγηθεί.\n",
    " Αποτελέσματα Decision Tree Classifier:\n",
    "-Simple Desicion -  F1 Weighted:0.7026\n",
    "-Simple Desicion -  BalancedAccuracy:0.6916"
   ]
  },
  {
   "cell_type": "markdown",
   "metadata": {
    "id": "lkJeuV1FXMmX"
   },
   "source": [
    "**2.3** Increasing the number of estimators in a bagging classifier can drastically increase the training time of a classifier. Is there any solution to this problem? Can the same solution be applied to boosting classifiers?"
   ]
  },
  {
   "cell_type": "markdown",
   "metadata": {
    "id": "ApNEPcWEXMmY"
   },
   "source": [
    " Με 10 estimators που είναι το default για τον Bagging classifier:\n",
    "-Training Time: Περίπου 34 sec.\n",
    " Ωστόσο, με 100 estimators έχουμε:\n",
    "-Training Time: Περίπου 335 sec.\n",
    "\n",
    "Βλεπουμε οτι με 100 estimators θέλουμε 10 φορές περισσότερο χρόνο για την εκπαίδευση από ότι με 10. Ωστόσο, αν είχαμε περισσότερη υπολογιστική δύναμη θα μπορούσαμε να εκπαιδεύσουμε παράλληλα τους επιμέρους classifiers και να συνδυάσουμε στο τέλος τα αποτελέσματα τους εξοικονομώντας έτσι χρόνο. Ακόμα, στους boosting classifiers δε θα μπορούσαμε να εφαρμόσουμε αυτή τη λύση, καθώς κάθε classifier περιμένει τα αποτελέσματα του προηγούμενου και εκπαιδεύεται προσπαθώντας να εστιάσει στα σημεία που έγινε λάθος classification. Αυτή η ακολουθιακή διαδικασία δε μας επιτρέπει να εκπαιδεύσουμε παράλληλα τους επιμέρους classifiers."
   ]
  },
  {
   "cell_type": "markdown",
   "metadata": {
    "id": "XgvsCbUGXMmY"
   },
   "source": [
    "## 3.0 Creating the best classifier ##"
   ]
  },
  {
   "cell_type": "markdown",
   "metadata": {
    "id": "Q6daX2mRXMmZ"
   },
   "source": [
    "**3.1** In this part of the assignment you are asked to train the best possible ensemble! Describe the process you followed to achieve this result. How did you choose your classifier and your parameters and why. Report the f-measure (weighted) & balanced accuracy (10-fold cross validation) of your final classifier and results of classifiers you tried in the cell following the code. Can you achieve a balanced accuracy over 83-84%?"
   ]
  },
  {
   "cell_type": "code",
   "execution_count": 98,
   "metadata": {
    "id": "00xAQ0HfXMmZ"
   },
   "outputs": [],
   "source": [
    "# BEGIN CODE HERE\n",
    "from sklearn.ensemble import RandomForestClassifier,GradientBoostingClassifier,StackingClassifier\n",
    "from sklearn.neural_network import MLPClassifier\n",
    "\n",
    "cls1 = RandomForestClassifier(n_estimators=50,max_depth=15,max_features=0.8,n_jobs=-1,random_state=RANDOM_STATE) # Classifier #1\n",
    "cls2 = GradientBoostingClassifier(n_estimators=50,random_state=RANDOM_STATE) # Classifier #2\n",
    "cls3 = MLPClassifier(hidden_layer_sizes=(100,100,100,100),random_state=RANDOM_STATE) # Classifier #3\n",
    "best_cls = StackingClassifier(estimators=[('rf',cls1),('gb',cls2),('mlp',cls3)],n_jobs=-1) # Stacking Classifier\n",
    "scores = cross_validate(best_cls,X,y,cv=10,scoring=('f1_weighted','balanced_accuracy'),n_jobs=-1)\n",
    "\n",
    "best_fmeasure = np.mean(scores['test_f1_weighted']) # The average f-measure\n",
    "best_accuracy = np.mean(scores['test_balanced_accuracy']) # The average accuracy\n",
    "#END CODE HERE"
   ]
  },
  {
   "cell_type": "code",
   "execution_count": 99,
   "metadata": {
    "colab": {
     "base_uri": "https://localhost:8080/"
    },
    "id": "FbLB09agXMma",
    "outputId": "be9abfc9-aa0d-4e22-9f07-46926fd1d987"
   },
   "outputs": [
    {
     "name": "stdout",
     "output_type": "stream",
     "text": [
      "Classifier:\n",
      "F1 Weighted-Score:0.8546981557772426 & Balanced Accuracy:0.8481343826688681\n"
     ]
    }
   ],
   "source": [
    "print(\"Classifier:\")\n",
    "#print(best_cls)\n",
    "print(\"F1 Weighted-Score:{} & Balanced Accuracy:{}\".format(best_fmeasure, best_accuracy))"
   ]
  },
  {
   "cell_type": "markdown",
   "metadata": {
    "id": "vnos1uqzXMma"
   },
   "source": [
    "**3.2** Describe the process you followed to achieve this result. How did you choose your classifier and your parameters and why. Report the f-measure & accuracy (10-fold cross validation) of your final classifier and results of classifiers you tried in the cell following the code."
   ]
  },
  {
   "cell_type": "markdown",
   "metadata": {
    "id": "o5dAfbTfXMmb"
   },
   "source": [
    "Αρχικά, χρησιμοποιήθηκε το ίδιο Ensemble με την 1.2 μιας που πετύχαινε ποσοστό άνω της τάξεως του 83-84% (όπως αναφέρεται και στην εκφώνηση).\n",
    "\n",
    "Για το Ensemble χρησιμοποιήθηκαν 4 Classifiers: α)RandomForestClassifier, β)GradientBoostingClassifier, γ)MLPClassifier και δ)StackingClassifier. Οι Classifiers αυτοί παραμετροποιήθηκαν με έναν από τους καλύτερους δυνατούς τρόπους (ύστερα μετά από αρκετά πειράματα) και συνδυάστηκαν έτσι ώστε να παράγουν το ισχυρότερο Ensemble (που σύμφωνα με εσάς πρέπει να τρέξει σε πραγματικό χρόνο και να τελειώνει κάποια στιγμή).Μάλιστα, τα αποτελέσματα που παράγει είναι:F1 Weighted-Score:0.8546981557772426 & Balanced Accuracy:0.8481343826688681. Ωστόσο, επειδή ο χρόνος που παίρνει για να τρέξει και να ολοκληρωθεί η διαδικασία είναι αρκετός, δεν καταγράφηκαν άλλα αποτελέσματα από την πειραματική διαδικασία που προυπήρξε."
   ]
  },
  {
   "cell_type": "markdown",
   "metadata": {
    "id": "fQEFCmbcXMmb"
   },
   "source": [
    "**3.3** Create a classifier that is going to be used in production - in a live system. Use the *test_set_noclass.csv* to make predictions. Store the predictions in a list.  "
   ]
  },
  {
   "cell_type": "code",
   "execution_count": 100,
   "metadata": {
    "id": "XQPgm_ubXMmc"
   },
   "outputs": [
    {
     "ename": "NameError",
     "evalue": "name 'test_set' is not defined",
     "output_type": "error",
     "traceback": [
      "\u001b[1;31m---------------------------------------------------------------------------\u001b[0m",
      "\u001b[1;31mNameError\u001b[0m                                 Traceback (most recent call last)",
      "\u001b[1;32mC:\\Users\\0C44~1\\AppData\\Local\\Temp/ipykernel_19072/668621885.py\u001b[0m in \u001b[0;36m<module>\u001b[1;34m\u001b[0m\n\u001b[0;32m      3\u001b[0m \u001b[1;32mfrom\u001b[0m \u001b[0msklearn\u001b[0m\u001b[1;33m.\u001b[0m\u001b[0mlinear_model\u001b[0m \u001b[1;32mimport\u001b[0m \u001b[0mLogisticRegression\u001b[0m\u001b[1;33m\u001b[0m\u001b[1;33m\u001b[0m\u001b[0m\n\u001b[0;32m      4\u001b[0m \u001b[1;33m\u001b[0m\u001b[0m\n\u001b[1;32m----> 5\u001b[1;33m \u001b[0mtest_set\u001b[0m\u001b[1;33m.\u001b[0m\u001b[0mhead\u001b[0m\u001b[1;33m(\u001b[0m\u001b[1;33m)\u001b[0m\u001b[1;33m\u001b[0m\u001b[1;33m\u001b[0m\u001b[0m\n\u001b[0m\u001b[0;32m      6\u001b[0m \u001b[1;33m\u001b[0m\u001b[0m\n\u001b[0;32m      7\u001b[0m \u001b[0mcls1\u001b[0m \u001b[1;33m=\u001b[0m \u001b[0mRandomForestClassifier\u001b[0m\u001b[1;33m(\u001b[0m\u001b[0mrandom_state\u001b[0m\u001b[1;33m=\u001b[0m\u001b[0mRANDOM_STATE\u001b[0m\u001b[1;33m)\u001b[0m\u001b[1;33m\u001b[0m\u001b[1;33m\u001b[0m\u001b[0m\n",
      "\u001b[1;31mNameError\u001b[0m: name 'test_set' is not defined"
     ]
    }
   ],
   "source": [
    "# BEGIN CODE HERE\n",
    "from sklearn.ensemble import RandomForestClassifier,AdaBoostClassifier,VotingClassifier\n",
    "from sklearn.linear_model import LogisticRegression\n",
    "\n",
    "test_set.head()\n",
    "\n",
    "cls1 = RandomForestClassifier(random_state=RANDOM_STATE)\n",
    "cls2 = AdaBoostClassifier(n_estimators=50,random_state=RANDOM_STATE)\n",
    "cls3 = LogisticRegression(random_state=RANDOM_STATE,max_iter=1000)\n",
    "\n",
    "cls = VotingClassifier(estimators=[('rf',cls1),('ab',cls2),('lg',cls3)],voting='soft',n_jobs=-1)\n",
    "cls.fit(X,y)\n",
    "#END CODE HERE\n",
    "test_set = pd.read_csv(\"test_set_noclass.csv\")\n",
    "predictions = cls.predict(test_set)"
   ]
  },
  {
   "cell_type": "markdown",
   "metadata": {
    "id": "lnAp-d2DXMmf"
   },
   "source": [
    "Θεωρώ πως η γραμμή:\"test_set = pd.read_csv(\"test_set_noclass.csv\")\" θα έπρεπε να βρίσκεται πριν το:\"# BEGIN CODE HERE\",αν και πιστεύω πως θα τρέξει σωστά! Ωστόσο, δεν αλλάχθηκε η θέση του γιατί είναι εκτός ορίων (# BEGIN CODE HERE/#END CODE HERE)!"
   ]
  },
  {
   "cell_type": "markdown",
   "metadata": {
    "id": "Neagvu0TXMmg"
   },
   "source": [
    "#### This following cell will not be executed. The test_set.csv with the classes will be made available after the deadline and this cell is for testing purposes!!! Do not modify it! ###"
   ]
  },
  {
   "cell_type": "code",
   "execution_count": null,
   "metadata": {
    "id": "k7K7iI7BXMmg"
   },
   "outputs": [],
   "source": [
    "if False:\n",
    "  from sklearn.metrics import f1_score, balanced_accuracy_score\n",
    "  final_test_set = pd.read_csv('test_set.csv')\n",
    "  ground_truth = final_test_set['CLASS']\n",
    "  print(\"Balanced Accuracy: {}\".format(balanced_accuracy_score(predictions, ground_truth)))\n",
    "  print(\"F1 Weighted-Score: {}\".format(f1_score(predictions, ground_truth, average='weighted')))"
   ]
  },
  {
   "cell_type": "markdown",
   "metadata": {
    "id": "YJH-9KdOzW7z"
   },
   "source": [
    "Both should aim above 85%!"
   ]
  }
 ],
 "metadata": {
  "accelerator": "GPU",
  "colab": {
   "collapsed_sections": [],
   "name": "3805_Sotirios_Loukas_Kampylis_skampylis@csd.auth.gr_LEnsembleModels.ipynb",
   "provenance": []
  },
  "kernelspec": {
   "display_name": "Python 3 (ipykernel)",
   "language": "python",
   "name": "python3"
  },
  "language_info": {
   "codemirror_mode": {
    "name": "ipython",
    "version": 3
   },
   "file_extension": ".py",
   "mimetype": "text/x-python",
   "name": "python",
   "nbconvert_exporter": "python",
   "pygments_lexer": "ipython3",
   "version": "3.9.7"
  }
 },
 "nbformat": 4,
 "nbformat_minor": 1
}
